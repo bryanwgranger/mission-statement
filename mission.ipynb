{
 "cells": [
  {
   "cell_type": "markdown",
   "metadata": {},
   "source": [
    "Mission Statement Analysis:\n",
    "Do mission statements at educational institutions differ based on the total cost of attendance?"
   ]
  },
  {
   "cell_type": "code",
   "execution_count": 2,
   "metadata": {},
   "outputs": [],
   "source": [
    "import pandas as pd\n",
    "import matplotlib.pyplot as plt\n",
    "import numpy as np\n",
    "from collections import defaultdict\n",
    "plt.style.use('ggplot')"
   ]
  },
  {
   "cell_type": "markdown",
   "metadata": {},
   "source": [
    "Using IPEDS, I downloaded a dataset as a csv and renamed it ed_ms1.csv in order to load into pandas."
   ]
  },
  {
   "cell_type": "code",
   "execution_count": 3,
   "metadata": {},
   "outputs": [],
   "source": [
    "df = pd.read_csv('ed_ms1.csv')"
   ]
  },
  {
   "cell_type": "code",
   "execution_count": 4,
   "metadata": {},
   "outputs": [
    {
     "data": {
      "text/html": [
       "<div>\n",
       "<style scoped>\n",
       "    .dataframe tbody tr th:only-of-type {\n",
       "        vertical-align: middle;\n",
       "    }\n",
       "\n",
       "    .dataframe tbody tr th {\n",
       "        vertical-align: top;\n",
       "    }\n",
       "\n",
       "    .dataframe thead th {\n",
       "        text-align: right;\n",
       "    }\n",
       "</style>\n",
       "<table border=\"1\" class=\"dataframe\">\n",
       "  <thead>\n",
       "    <tr style=\"text-align: right;\">\n",
       "      <th></th>\n",
       "      <th>UnitID</th>\n",
       "      <th>Institution Name</th>\n",
       "      <th>Mission statement (IC2019mission)</th>\n",
       "      <th>Mission statement URL (if mission statement not provided) (IC2019mission)</th>\n",
       "      <th>Total price for in-state students living on campus 2019-20 (DRVIC2019)</th>\n",
       "      <th>Sector of institution (HD2019)</th>\n",
       "      <th>Unnamed: 6</th>\n",
       "    </tr>\n",
       "  </thead>\n",
       "  <tbody>\n",
       "    <tr>\n",
       "      <td>0</td>\n",
       "      <td>177834</td>\n",
       "      <td>A T Still University of Health Sciences</td>\n",
       "      <td>NaN</td>\n",
       "      <td>www.atsu.edu/contact/about-atsu#Mission-Vision...</td>\n",
       "      <td>NaN</td>\n",
       "      <td>2</td>\n",
       "      <td>NaN</td>\n",
       "    </tr>\n",
       "    <tr>\n",
       "      <td>1</td>\n",
       "      <td>222178</td>\n",
       "      <td>Abilene Christian University</td>\n",
       "      <td>NaN</td>\n",
       "      <td>www.acu.edu/about/past-present-future/who-we-a...</td>\n",
       "      <td>51887.0</td>\n",
       "      <td>2</td>\n",
       "      <td>NaN</td>\n",
       "    </tr>\n",
       "    <tr>\n",
       "      <td>2</td>\n",
       "      <td>138558</td>\n",
       "      <td>Abraham Baldwin Agricultural College</td>\n",
       "      <td>NaN</td>\n",
       "      <td>https://www.abac.edu/about-abac/#our-vision</td>\n",
       "      <td>15479.0</td>\n",
       "      <td>1</td>\n",
       "      <td>NaN</td>\n",
       "    </tr>\n",
       "    <tr>\n",
       "      <td>3</td>\n",
       "      <td>451079</td>\n",
       "      <td>Academy for Five Element Acupuncture</td>\n",
       "      <td>NaN</td>\n",
       "      <td>acupuncturist.edu/about-the-academy/mission-vi...</td>\n",
       "      <td>NaN</td>\n",
       "      <td>2</td>\n",
       "      <td>NaN</td>\n",
       "    </tr>\n",
       "    <tr>\n",
       "      <td>4</td>\n",
       "      <td>457271</td>\n",
       "      <td>Academy for Jewish Religion-California</td>\n",
       "      <td>NaN</td>\n",
       "      <td>https://ajrca.edu</td>\n",
       "      <td>NaN</td>\n",
       "      <td>2</td>\n",
       "      <td>NaN</td>\n",
       "    </tr>\n",
       "  </tbody>\n",
       "</table>\n",
       "</div>"
      ],
      "text/plain": [
       "   UnitID                         Institution Name  \\\n",
       "0  177834  A T Still University of Health Sciences   \n",
       "1  222178             Abilene Christian University   \n",
       "2  138558     Abraham Baldwin Agricultural College   \n",
       "3  451079     Academy for Five Element Acupuncture   \n",
       "4  457271   Academy for Jewish Religion-California   \n",
       "\n",
       "  Mission statement (IC2019mission)  \\\n",
       "0                               NaN   \n",
       "1                               NaN   \n",
       "2                               NaN   \n",
       "3                               NaN   \n",
       "4                               NaN   \n",
       "\n",
       "  Mission statement URL (if mission statement not provided) (IC2019mission)  \\\n",
       "0  www.atsu.edu/contact/about-atsu#Mission-Vision...                          \n",
       "1  www.acu.edu/about/past-present-future/who-we-a...                          \n",
       "2        https://www.abac.edu/about-abac/#our-vision                          \n",
       "3  acupuncturist.edu/about-the-academy/mission-vi...                          \n",
       "4                                  https://ajrca.edu                          \n",
       "\n",
       "   Total price for in-state students living on campus 2019-20 (DRVIC2019)  \\\n",
       "0                                                NaN                        \n",
       "1                                            51887.0                        \n",
       "2                                            15479.0                        \n",
       "3                                                NaN                        \n",
       "4                                                NaN                        \n",
       "\n",
       "   Sector of institution (HD2019)  Unnamed: 6  \n",
       "0                               2         NaN  \n",
       "1                               2         NaN  \n",
       "2                               1         NaN  \n",
       "3                               2         NaN  \n",
       "4                               2         NaN  "
      ]
     },
     "execution_count": 4,
     "metadata": {},
     "output_type": "execute_result"
    }
   ],
   "source": [
    "df.head()"
   ]
  },
  {
   "cell_type": "code",
   "execution_count": 5,
   "metadata": {},
   "outputs": [
    {
     "data": {
      "text/plain": [
       "(2486, 7)"
      ]
     },
     "execution_count": 5,
     "metadata": {},
     "output_type": "execute_result"
    }
   ],
   "source": [
    "df.shape"
   ]
  },
  {
   "cell_type": "code",
   "execution_count": 6,
   "metadata": {},
   "outputs": [
    {
     "data": {
      "text/plain": [
       "Index(['UnitID', 'Institution Name', 'Mission statement (IC2019mission)',\n",
       "       'Mission statement URL (if mission statement not provided) (IC2019mission)',\n",
       "       'Total price for in-state students living on campus 2019-20 (DRVIC2019)',\n",
       "       'Sector of institution (HD2019)', 'Unnamed: 6'],\n",
       "      dtype='object')"
      ]
     },
     "execution_count": 6,
     "metadata": {},
     "output_type": "execute_result"
    }
   ],
   "source": [
    "df.columns"
   ]
  },
  {
   "cell_type": "markdown",
   "metadata": {},
   "source": [
    "Here I create a subset of the data, only including institutions who have a mission statement on IPEDS. The subset includes 581 rows from the original 2486. "
   ]
  },
  {
   "cell_type": "code",
   "execution_count": 7,
   "metadata": {},
   "outputs": [],
   "source": [
    "df_ms = df.dropna(subset=['Mission statement (IC2019mission)']).drop(columns=['Unnamed: 6'])"
   ]
  },
  {
   "cell_type": "code",
   "execution_count": 8,
   "metadata": {},
   "outputs": [
    {
     "data": {
      "text/html": [
       "<div>\n",
       "<style scoped>\n",
       "    .dataframe tbody tr th:only-of-type {\n",
       "        vertical-align: middle;\n",
       "    }\n",
       "\n",
       "    .dataframe tbody tr th {\n",
       "        vertical-align: top;\n",
       "    }\n",
       "\n",
       "    .dataframe thead th {\n",
       "        text-align: right;\n",
       "    }\n",
       "</style>\n",
       "<table border=\"1\" class=\"dataframe\">\n",
       "  <thead>\n",
       "    <tr style=\"text-align: right;\">\n",
       "      <th></th>\n",
       "      <th>UnitID</th>\n",
       "      <th>Institution Name</th>\n",
       "      <th>Mission statement (IC2019mission)</th>\n",
       "      <th>Mission statement URL (if mission statement not provided) (IC2019mission)</th>\n",
       "      <th>Total price for in-state students living on campus 2019-20 (DRVIC2019)</th>\n",
       "      <th>Sector of institution (HD2019)</th>\n",
       "    </tr>\n",
       "  </thead>\n",
       "  <tbody>\n",
       "    <tr>\n",
       "      <td>6</td>\n",
       "      <td>384306</td>\n",
       "      <td>Acupuncture and Integrative Medicine College-B...</td>\n",
       "      <td>The mission of Acupuncture &amp; Integrative Medic...</td>\n",
       "      <td>NaN</td>\n",
       "      <td>NaN</td>\n",
       "      <td>2</td>\n",
       "    </tr>\n",
       "    <tr>\n",
       "      <td>11</td>\n",
       "      <td>168528</td>\n",
       "      <td>Adrian College</td>\n",
       "      <td>Adrian College  a liberal arts college in the ...</td>\n",
       "      <td>NaN</td>\n",
       "      <td>54829.0</td>\n",
       "      <td>2</td>\n",
       "    </tr>\n",
       "    <tr>\n",
       "      <td>18</td>\n",
       "      <td>102580</td>\n",
       "      <td>Alaska Bible College</td>\n",
       "      <td>The purpose of Alaska Bible College is to exal...</td>\n",
       "      <td>NaN</td>\n",
       "      <td>20278.0</td>\n",
       "      <td>2</td>\n",
       "    </tr>\n",
       "    <tr>\n",
       "      <td>20</td>\n",
       "      <td>188526</td>\n",
       "      <td>Albany College of Pharmacy and Health Sciences</td>\n",
       "      <td>We educate the next generation of leaders to i...</td>\n",
       "      <td>NaN</td>\n",
       "      <td>51351.0</td>\n",
       "      <td>2</td>\n",
       "    </tr>\n",
       "    <tr>\n",
       "      <td>24</td>\n",
       "      <td>385415</td>\n",
       "      <td>Albert Einstein College of Medicine</td>\n",
       "      <td>Albert Einstein College of Medicine is a resea...</td>\n",
       "      <td>NaN</td>\n",
       "      <td>NaN</td>\n",
       "      <td>2</td>\n",
       "    </tr>\n",
       "    <tr>\n",
       "      <td>...</td>\n",
       "      <td>...</td>\n",
       "      <td>...</td>\n",
       "      <td>...</td>\n",
       "      <td>...</td>\n",
       "      <td>...</td>\n",
       "      <td>...</td>\n",
       "    </tr>\n",
       "    <tr>\n",
       "      <td>2476</td>\n",
       "      <td>493664</td>\n",
       "      <td>Yeshivat Hechal Shemuel</td>\n",
       "      <td>Yeshivat Hechal Shemuel seeks to train student...</td>\n",
       "      <td>NaN</td>\n",
       "      <td>NaN</td>\n",
       "      <td>2</td>\n",
       "    </tr>\n",
       "    <tr>\n",
       "      <td>2477</td>\n",
       "      <td>217040</td>\n",
       "      <td>Yeshivath Beth Moshe</td>\n",
       "      <td>The purpose is to establish  maintain  and con...</td>\n",
       "      <td>NaN</td>\n",
       "      <td>17300.0</td>\n",
       "      <td>2</td>\n",
       "    </tr>\n",
       "    <tr>\n",
       "      <td>2478</td>\n",
       "      <td>197735</td>\n",
       "      <td>Yeshivath Viznitz</td>\n",
       "      <td>Yeshivath Viznitz seek to train students in th...</td>\n",
       "      <td>NaN</td>\n",
       "      <td>18150.0</td>\n",
       "      <td>2</td>\n",
       "    </tr>\n",
       "    <tr>\n",
       "      <td>2479</td>\n",
       "      <td>197744</td>\n",
       "      <td>Yeshivath Zichron Moshe</td>\n",
       "      <td>YESHIVATH ZICHRON MOSHE seeks to train student...</td>\n",
       "      <td>NaN</td>\n",
       "      <td>21600.0</td>\n",
       "      <td>2</td>\n",
       "    </tr>\n",
       "    <tr>\n",
       "      <td>2480</td>\n",
       "      <td>401250</td>\n",
       "      <td>Yo San University of Traditional Chinese Medicine</td>\n",
       "      <td>Yo San University  a non-profit organization  ...</td>\n",
       "      <td>NaN</td>\n",
       "      <td>NaN</td>\n",
       "      <td>2</td>\n",
       "    </tr>\n",
       "  </tbody>\n",
       "</table>\n",
       "<p>581 rows × 6 columns</p>\n",
       "</div>"
      ],
      "text/plain": [
       "      UnitID                                   Institution Name  \\\n",
       "6     384306  Acupuncture and Integrative Medicine College-B...   \n",
       "11    168528                                     Adrian College   \n",
       "18    102580                               Alaska Bible College   \n",
       "20    188526     Albany College of Pharmacy and Health Sciences   \n",
       "24    385415                Albert Einstein College of Medicine   \n",
       "...      ...                                                ...   \n",
       "2476  493664                            Yeshivat Hechal Shemuel   \n",
       "2477  217040                               Yeshivath Beth Moshe   \n",
       "2478  197735                                  Yeshivath Viznitz   \n",
       "2479  197744                            Yeshivath Zichron Moshe   \n",
       "2480  401250  Yo San University of Traditional Chinese Medicine   \n",
       "\n",
       "                      Mission statement (IC2019mission)  \\\n",
       "6     The mission of Acupuncture & Integrative Medic...   \n",
       "11    Adrian College  a liberal arts college in the ...   \n",
       "18    The purpose of Alaska Bible College is to exal...   \n",
       "20    We educate the next generation of leaders to i...   \n",
       "24    Albert Einstein College of Medicine is a resea...   \n",
       "...                                                 ...   \n",
       "2476  Yeshivat Hechal Shemuel seeks to train student...   \n",
       "2477  The purpose is to establish  maintain  and con...   \n",
       "2478  Yeshivath Viznitz seek to train students in th...   \n",
       "2479  YESHIVATH ZICHRON MOSHE seeks to train student...   \n",
       "2480  Yo San University  a non-profit organization  ...   \n",
       "\n",
       "     Mission statement URL (if mission statement not provided) (IC2019mission)  \\\n",
       "6                                                   NaN                          \n",
       "11                                                  NaN                          \n",
       "18                                                  NaN                          \n",
       "20                                                  NaN                          \n",
       "24                                                  NaN                          \n",
       "...                                                 ...                          \n",
       "2476                                                NaN                          \n",
       "2477                                                NaN                          \n",
       "2478                                                NaN                          \n",
       "2479                                                NaN                          \n",
       "2480                                                NaN                          \n",
       "\n",
       "      Total price for in-state students living on campus 2019-20 (DRVIC2019)  \\\n",
       "6                                                   NaN                        \n",
       "11                                              54829.0                        \n",
       "18                                              20278.0                        \n",
       "20                                              51351.0                        \n",
       "24                                                  NaN                        \n",
       "...                                                 ...                        \n",
       "2476                                                NaN                        \n",
       "2477                                            17300.0                        \n",
       "2478                                            18150.0                        \n",
       "2479                                            21600.0                        \n",
       "2480                                                NaN                        \n",
       "\n",
       "      Sector of institution (HD2019)  \n",
       "6                                  2  \n",
       "11                                 2  \n",
       "18                                 2  \n",
       "20                                 2  \n",
       "24                                 2  \n",
       "...                              ...  \n",
       "2476                               2  \n",
       "2477                               2  \n",
       "2478                               2  \n",
       "2479                               2  \n",
       "2480                               2  \n",
       "\n",
       "[581 rows x 6 columns]"
      ]
     },
     "execution_count": 8,
     "metadata": {},
     "output_type": "execute_result"
    }
   ],
   "source": [
    "df_ms"
   ]
  },
  {
   "cell_type": "raw",
   "metadata": {},
   "source": [
    "Briefly exploring the data, we can see the distribution of total price for these institutions. The mean is $34,500 and the median is 29,166. In order to capture the large group around the $30k mark, I've somewhat arbitrarily selected $40k as the split point. There are 132 samples in the over $40k set and 257 in the under $40k."
   ]
  },
  {
   "cell_type": "code",
   "execution_count": 9,
   "metadata": {},
   "outputs": [
    {
     "data": {
      "text/plain": [
       "<matplotlib.axes._subplots.AxesSubplot at 0x11fb06390>"
      ]
     },
     "execution_count": 9,
     "metadata": {},
     "output_type": "execute_result"
    },
    {
     "data": {
      "image/png": "[encoded data removed]",
      "text/plain": [
       "<Figure size 432x288 with 1 Axes>"
      ]
     },
     "metadata": {
      "needs_background": "light"
     },
     "output_type": "display_data"
    }
   ],
   "source": [
    "df_ms['Total price for in-state students living on campus 2019-20 (DRVIC2019)'].hist()"
   ]
  },
  {
   "cell_type": "code",
   "execution_count": 10,
   "metadata": {},
   "outputs": [
    {
     "data": {
      "text/plain": [
       "34500.61439588689"
      ]
     },
     "execution_count": 10,
     "metadata": {},
     "output_type": "execute_result"
    }
   ],
   "source": [
    "df_ms['Total price for in-state students living on campus 2019-20 (DRVIC2019)'].mean()"
   ]
  },
  {
   "cell_type": "code",
   "execution_count": 11,
   "metadata": {},
   "outputs": [
    {
     "data": {
      "text/plain": [
       "29166.0"
      ]
     },
     "execution_count": 11,
     "metadata": {},
     "output_type": "execute_result"
    }
   ],
   "source": [
    "df_ms['Total price for in-state students living on campus 2019-20 (DRVIC2019)'].median()"
   ]
  },
  {
   "cell_type": "code",
   "execution_count": 12,
   "metadata": {},
   "outputs": [],
   "source": [
    "df_40plus = df_ms[df_ms['Total price for in-state students living on campus 2019-20 (DRVIC2019)'] > 40000]"
   ]
  },
  {
   "cell_type": "code",
   "execution_count": 13,
   "metadata": {},
   "outputs": [
    {
     "data": {
      "text/plain": [
       "(132, 6)"
      ]
     },
     "execution_count": 13,
     "metadata": {},
     "output_type": "execute_result"
    }
   ],
   "source": [
    "df_40plus.shape"
   ]
  },
  {
   "cell_type": "code",
   "execution_count": 14,
   "metadata": {},
   "outputs": [],
   "source": [
    "df_40under = df_ms[df_ms['Total price for in-state students living on campus 2019-20 (DRVIC2019)'] <= 40000]"
   ]
  },
  {
   "cell_type": "code",
   "execution_count": 15,
   "metadata": {},
   "outputs": [
    {
     "data": {
      "text/plain": [
       "(257, 6)"
      ]
     },
     "execution_count": 15,
     "metadata": {},
     "output_type": "execute_result"
    }
   ],
   "source": [
    "df_40under.shape"
   ]
  },
  {
   "cell_type": "raw",
   "metadata": {},
   "source": [
    "Now I will create dictionaries that count the total instances of each word for each respective subset.\n",
    "After combining these into a new DataFrame, I reduce it to only the top 100 appearing words."
   ]
  },
  {
   "cell_type": "code",
   "execution_count": 16,
   "metadata": {},
   "outputs": [],
   "source": [
    "def sort_dict(d):\n",
    "    return {k: v for k, v in sorted(d.items(), key=lambda item: item[1], reverse=True)}\n",
    "\n",
    "with open('stopwords.txt') as infile:\n",
    "    stop_words = [word.strip() for word in infile.readlines()]"
   ]
  },
  {
   "cell_type": "code",
   "execution_count": 17,
   "metadata": {},
   "outputs": [],
   "source": [
    "over40_dict = defaultdict(int)\n",
    "for entry in df_40plus['Mission statement (IC2019mission)']:\n",
    "    for word in entry.lower().split():\n",
    "        if word not in stop_words:\n",
    "            over40_dict[word] += 1\n",
    "            \n",
    "over40_dict = sort_dict(over40_dict)"
   ]
  },
  {
   "cell_type": "code",
   "execution_count": 18,
   "metadata": {},
   "outputs": [],
   "source": [
    "under40_dict = defaultdict(int)\n",
    "for entry in df_40under['Mission statement (IC2019mission)']:\n",
    "    for word in entry.lower().split():\n",
    "        if word not in stop_words:\n",
    "            under40_dict[word] += 1\n",
    "            \n",
    "under40_dict = sort_dict(under40_dict)"
   ]
  },
  {
   "cell_type": "code",
   "execution_count": 19,
   "metadata": {},
   "outputs": [],
   "source": [
    "df_split = pd.DataFrame([under40_dict, over40_dict], index=['under 40', 'over 40']).iloc[:,:100]"
   ]
  },
  {
   "cell_type": "code",
   "execution_count": 20,
   "metadata": {},
   "outputs": [
    {
     "data": {
      "text/html": [
       "<div>\n",
       "<style scoped>\n",
       "    .dataframe tbody tr th:only-of-type {\n",
       "        vertical-align: middle;\n",
       "    }\n",
       "\n",
       "    .dataframe tbody tr th {\n",
       "        vertical-align: top;\n",
       "    }\n",
       "\n",
       "    .dataframe thead th {\n",
       "        text-align: right;\n",
       "    }\n",
       "</style>\n",
       "<table border=\"1\" class=\"dataframe\">\n",
       "  <thead>\n",
       "    <tr style=\"text-align: right;\">\n",
       "      <th></th>\n",
       "      <th>students</th>\n",
       "      <th>university</th>\n",
       "      <th>college</th>\n",
       "      <th>understanding</th>\n",
       "      <th>education</th>\n",
       "      <th>knowledge</th>\n",
       "      <th>scholarship</th>\n",
       "      <th>committed</th>\n",
       "      <th>learning</th>\n",
       "      <th>skills</th>\n",
       "      <th>...</th>\n",
       "      <th>community.</th>\n",
       "      <th>environment</th>\n",
       "      <th>torah</th>\n",
       "      <th>church</th>\n",
       "      <th>needs</th>\n",
       "      <th>comprehensive</th>\n",
       "      <th>seminary</th>\n",
       "      <th>sciences</th>\n",
       "      <th>service.</th>\n",
       "      <th>people</th>\n",
       "    </tr>\n",
       "  </thead>\n",
       "  <tbody>\n",
       "    <tr>\n",
       "      <td>under 40</td>\n",
       "      <td>299</td>\n",
       "      <td>167</td>\n",
       "      <td>104</td>\n",
       "      <td>104</td>\n",
       "      <td>90</td>\n",
       "      <td>88</td>\n",
       "      <td>81</td>\n",
       "      <td>75</td>\n",
       "      <td>72</td>\n",
       "      <td>71</td>\n",
       "      <td>...</td>\n",
       "      <td>20</td>\n",
       "      <td>20</td>\n",
       "      <td>20</td>\n",
       "      <td>19</td>\n",
       "      <td>19</td>\n",
       "      <td>19</td>\n",
       "      <td>18</td>\n",
       "      <td>18</td>\n",
       "      <td>18</td>\n",
       "      <td>17</td>\n",
       "    </tr>\n",
       "    <tr>\n",
       "      <td>over 40</td>\n",
       "      <td>104</td>\n",
       "      <td>74</td>\n",
       "      <td>66</td>\n",
       "      <td>6</td>\n",
       "      <td>53</td>\n",
       "      <td>18</td>\n",
       "      <td>7</td>\n",
       "      <td>23</td>\n",
       "      <td>47</td>\n",
       "      <td>7</td>\n",
       "      <td>...</td>\n",
       "      <td>6</td>\n",
       "      <td>15</td>\n",
       "      <td>1</td>\n",
       "      <td>11</td>\n",
       "      <td>6</td>\n",
       "      <td>5</td>\n",
       "      <td>4</td>\n",
       "      <td>9</td>\n",
       "      <td>6</td>\n",
       "      <td>8</td>\n",
       "    </tr>\n",
       "  </tbody>\n",
       "</table>\n",
       "<p>2 rows × 100 columns</p>\n",
       "</div>"
      ],
      "text/plain": [
       "          students  university  college  understanding  education  knowledge  \\\n",
       "under 40       299         167      104            104         90         88   \n",
       "over 40        104          74       66              6         53         18   \n",
       "\n",
       "          scholarship  committed  learning  skills  ...  community.  \\\n",
       "under 40           81         75        72      71  ...          20   \n",
       "over 40             7         23        47       7  ...           6   \n",
       "\n",
       "          environment  torah  church  needs  comprehensive  seminary  \\\n",
       "under 40           20     20      19     19             19        18   \n",
       "over 40            15      1      11      6              5         4   \n",
       "\n",
       "          sciences  service.  people  \n",
       "under 40        18        18      17  \n",
       "over 40          9         6       8  \n",
       "\n",
       "[2 rows x 100 columns]"
      ]
     },
     "execution_count": 20,
     "metadata": {},
     "output_type": "execute_result"
    }
   ],
   "source": [
    "df_split.head()"
   ]
  },
  {
   "cell_type": "raw",
   "metadata": {},
   "source": [
    "For accurate comparisons, we must normalize the counts for each word. I do this by dividing the count for each word by the total sum of words in each subset."
   ]
  },
  {
   "cell_type": "code",
   "execution_count": 21,
   "metadata": {},
   "outputs": [
    {
     "data": {
      "text/plain": [
       "under 40    4772.0\n",
       "over 40     1452.0\n",
       "dtype: float64"
      ]
     },
     "execution_count": 21,
     "metadata": {},
     "output_type": "execute_result"
    }
   ],
   "source": [
    "df_split.sum(axis=1)"
   ]
  },
  {
   "cell_type": "code",
   "execution_count": 23,
   "metadata": {},
   "outputs": [],
   "source": [
    "df_split_norm = df_split.copy()\n",
    "for col in df_split_norm.columns:\n",
    "    df_split_norm[col] = df_split_norm[col] / df_split.sum(axis=1)"
   ]
  },
  {
   "cell_type": "code",
   "execution_count": 24,
   "metadata": {},
   "outputs": [
    {
     "data": {
      "text/html": [
       "<div>\n",
       "<style scoped>\n",
       "    .dataframe tbody tr th:only-of-type {\n",
       "        vertical-align: middle;\n",
       "    }\n",
       "\n",
       "    .dataframe tbody tr th {\n",
       "        vertical-align: top;\n",
       "    }\n",
       "\n",
       "    .dataframe thead th {\n",
       "        text-align: right;\n",
       "    }\n",
       "</style>\n",
       "<table border=\"1\" class=\"dataframe\">\n",
       "  <thead>\n",
       "    <tr style=\"text-align: right;\">\n",
       "      <th></th>\n",
       "      <th>students</th>\n",
       "      <th>university</th>\n",
       "      <th>college</th>\n",
       "      <th>understanding</th>\n",
       "      <th>education</th>\n",
       "      <th>knowledge</th>\n",
       "      <th>scholarship</th>\n",
       "      <th>committed</th>\n",
       "      <th>learning</th>\n",
       "      <th>skills</th>\n",
       "      <th>...</th>\n",
       "      <th>community.</th>\n",
       "      <th>environment</th>\n",
       "      <th>torah</th>\n",
       "      <th>church</th>\n",
       "      <th>needs</th>\n",
       "      <th>comprehensive</th>\n",
       "      <th>seminary</th>\n",
       "      <th>sciences</th>\n",
       "      <th>service.</th>\n",
       "      <th>people</th>\n",
       "    </tr>\n",
       "  </thead>\n",
       "  <tbody>\n",
       "    <tr>\n",
       "      <td>under 40</td>\n",
       "      <td>0.062657</td>\n",
       "      <td>0.034996</td>\n",
       "      <td>0.021794</td>\n",
       "      <td>0.021794</td>\n",
       "      <td>0.018860</td>\n",
       "      <td>0.018441</td>\n",
       "      <td>0.016974</td>\n",
       "      <td>0.015717</td>\n",
       "      <td>0.015088</td>\n",
       "      <td>0.014878</td>\n",
       "      <td>...</td>\n",
       "      <td>0.004191</td>\n",
       "      <td>0.004191</td>\n",
       "      <td>0.004191</td>\n",
       "      <td>0.003982</td>\n",
       "      <td>0.003982</td>\n",
       "      <td>0.003982</td>\n",
       "      <td>0.003772</td>\n",
       "      <td>0.003772</td>\n",
       "      <td>0.003772</td>\n",
       "      <td>0.003562</td>\n",
       "    </tr>\n",
       "    <tr>\n",
       "      <td>over 40</td>\n",
       "      <td>0.071625</td>\n",
       "      <td>0.050964</td>\n",
       "      <td>0.045455</td>\n",
       "      <td>0.004132</td>\n",
       "      <td>0.036501</td>\n",
       "      <td>0.012397</td>\n",
       "      <td>0.004821</td>\n",
       "      <td>0.015840</td>\n",
       "      <td>0.032369</td>\n",
       "      <td>0.004821</td>\n",
       "      <td>...</td>\n",
       "      <td>0.004132</td>\n",
       "      <td>0.010331</td>\n",
       "      <td>0.000689</td>\n",
       "      <td>0.007576</td>\n",
       "      <td>0.004132</td>\n",
       "      <td>0.003444</td>\n",
       "      <td>0.002755</td>\n",
       "      <td>0.006198</td>\n",
       "      <td>0.004132</td>\n",
       "      <td>0.005510</td>\n",
       "    </tr>\n",
       "  </tbody>\n",
       "</table>\n",
       "<p>2 rows × 100 columns</p>\n",
       "</div>"
      ],
      "text/plain": [
       "          students  university   college  understanding  education  knowledge  \\\n",
       "under 40  0.062657    0.034996  0.021794       0.021794   0.018860   0.018441   \n",
       "over 40   0.071625    0.050964  0.045455       0.004132   0.036501   0.012397   \n",
       "\n",
       "          scholarship  committed  learning    skills  ...  community.  \\\n",
       "under 40     0.016974   0.015717  0.015088  0.014878  ...    0.004191   \n",
       "over 40      0.004821   0.015840  0.032369  0.004821  ...    0.004132   \n",
       "\n",
       "          environment     torah    church     needs  comprehensive  seminary  \\\n",
       "under 40     0.004191  0.004191  0.003982  0.003982       0.003982  0.003772   \n",
       "over 40      0.010331  0.000689  0.007576  0.004132       0.003444  0.002755   \n",
       "\n",
       "          sciences  service.    people  \n",
       "under 40  0.003772  0.003772  0.003562  \n",
       "over 40   0.006198  0.004132  0.005510  \n",
       "\n",
       "[2 rows x 100 columns]"
      ]
     },
     "execution_count": 24,
     "metadata": {},
     "output_type": "execute_result"
    }
   ],
   "source": [
    "df_split_norm.head()"
   ]
  },
  {
   "cell_type": "code",
   "execution_count": 25,
   "metadata": {},
   "outputs": [],
   "source": [
    "df_split_norm = df_split_norm.T"
   ]
  },
  {
   "cell_type": "code",
   "execution_count": 26,
   "metadata": {},
   "outputs": [
    {
     "data": {
      "text/plain": [
       "under 40    1.0\n",
       "over 40     1.0\n",
       "dtype: float64"
      ]
     },
     "execution_count": 26,
     "metadata": {},
     "output_type": "execute_result"
    }
   ],
   "source": [
    "df_split_norm.sum()"
   ]
  },
  {
   "cell_type": "raw",
   "metadata": {},
   "source": [
    "To start to visualize the data, this first figure shows a distrubtion of these top 100 words, with the frequency of the word in the under $40k subset on the X axis and the over $40k subset on the Y axis. The red line has a slope of 1; thus any words above the line occur more frequently in the over $40k subset, and those under the line appear more often in the under $40k subset. Words on the line appear equally in each."
   ]
  },
  {
   "cell_type": "code",
   "execution_count": 31,
   "metadata": {},
   "outputs": [
    {
     "data": {
      "image/png": "[encoded data removed]",
      "text/plain": [
       "<Figure size 720x720 with 1 Axes>"
      ]
     },
     "metadata": {
      "needs_background": "light"
     },
     "output_type": "display_data"
    }
   ],
   "source": [
    "fig, ax = plt.subplots(figsize=(10,10))\n",
    "ax.scatter(df_split_norm['under 40'], df_split_norm['over 40'], color='blue')\n",
    "ax.plot([0,0.07], [0,0.07], color='red')\n",
    "ax.set_xlabel('Under \\$40k')\n",
    "ax.set_ylabel('Over \\$40k')\n",
    "ax.set_title('Top 100 words in mission statements, as proportions of total words in category')\n",
    "fig.savefig('top 100 words.png')"
   ]
  },
  {
   "cell_type": "raw",
   "metadata": {},
   "source": [
    "Here I create two new DataFrames, one for each subset. These new DataFrames contain the 25 words in each subset that have the greatest difference between subsets."
   ]
  },
  {
   "cell_type": "code",
   "execution_count": 27,
   "metadata": {},
   "outputs": [],
   "source": [
    "df_split_norm['difference'] = df_split_norm['over 40'] - df_split_norm['under 40']"
   ]
  },
  {
   "cell_type": "code",
   "execution_count": 28,
   "metadata": {},
   "outputs": [],
   "source": [
    "top_over40_word_diff = df_split_norm.sort_values(by='difference', ascending=False)[:25]\n",
    "top_under40_word_diff = df_split_norm.sort_values(by='difference')[:25]\n",
    "top_under40_word_diff['difference'] = abs(top_under40_word_diff['difference'])"
   ]
  },
  {
   "cell_type": "code",
   "execution_count": 29,
   "metadata": {},
   "outputs": [
    {
     "data": {
      "text/html": [
       "<div>\n",
       "<style scoped>\n",
       "    .dataframe tbody tr th:only-of-type {\n",
       "        vertical-align: middle;\n",
       "    }\n",
       "\n",
       "    .dataframe tbody tr th {\n",
       "        vertical-align: top;\n",
       "    }\n",
       "\n",
       "    .dataframe thead th {\n",
       "        text-align: right;\n",
       "    }\n",
       "</style>\n",
       "<table border=\"1\" class=\"dataframe\">\n",
       "  <thead>\n",
       "    <tr style=\"text-align: right;\">\n",
       "      <th></th>\n",
       "      <th>under 40</th>\n",
       "      <th>over 40</th>\n",
       "      <th>difference</th>\n",
       "    </tr>\n",
       "  </thead>\n",
       "  <tbody>\n",
       "    <tr>\n",
       "      <td>community</td>\n",
       "      <td>0.012573</td>\n",
       "      <td>0.036501</td>\n",
       "      <td>0.023928</td>\n",
       "    </tr>\n",
       "    <tr>\n",
       "      <td>liberal</td>\n",
       "      <td>0.009220</td>\n",
       "      <td>0.033058</td>\n",
       "      <td>0.023837</td>\n",
       "    </tr>\n",
       "    <tr>\n",
       "      <td>college</td>\n",
       "      <td>0.021794</td>\n",
       "      <td>0.045455</td>\n",
       "      <td>0.023661</td>\n",
       "    </tr>\n",
       "    <tr>\n",
       "      <td>arts</td>\n",
       "      <td>0.010478</td>\n",
       "      <td>0.033058</td>\n",
       "      <td>0.022580</td>\n",
       "    </tr>\n",
       "    <tr>\n",
       "      <td>education</td>\n",
       "      <td>0.018860</td>\n",
       "      <td>0.036501</td>\n",
       "      <td>0.017641</td>\n",
       "    </tr>\n",
       "    <tr>\n",
       "      <td>learning</td>\n",
       "      <td>0.015088</td>\n",
       "      <td>0.032369</td>\n",
       "      <td>0.017281</td>\n",
       "    </tr>\n",
       "    <tr>\n",
       "      <td>world.</td>\n",
       "      <td>0.005239</td>\n",
       "      <td>0.021350</td>\n",
       "      <td>0.016111</td>\n",
       "    </tr>\n",
       "    <tr>\n",
       "      <td>university</td>\n",
       "      <td>0.034996</td>\n",
       "      <td>0.050964</td>\n",
       "      <td>0.015968</td>\n",
       "    </tr>\n",
       "    <tr>\n",
       "      <td>professional</td>\n",
       "      <td>0.008173</td>\n",
       "      <td>0.024105</td>\n",
       "      <td>0.015932</td>\n",
       "    </tr>\n",
       "    <tr>\n",
       "      <td>mission</td>\n",
       "      <td>0.013831</td>\n",
       "      <td>0.029614</td>\n",
       "      <td>0.015784</td>\n",
       "    </tr>\n",
       "    <tr>\n",
       "      <td>diverse</td>\n",
       "      <td>0.009220</td>\n",
       "      <td>0.024793</td>\n",
       "      <td>0.015573</td>\n",
       "    </tr>\n",
       "    <tr>\n",
       "      <td>lives</td>\n",
       "      <td>0.004610</td>\n",
       "      <td>0.019284</td>\n",
       "      <td>0.014674</td>\n",
       "    </tr>\n",
       "    <tr>\n",
       "      <td>global</td>\n",
       "      <td>0.007544</td>\n",
       "      <td>0.018595</td>\n",
       "      <td>0.011051</td>\n",
       "    </tr>\n",
       "    <tr>\n",
       "      <td>prepares</td>\n",
       "      <td>0.005029</td>\n",
       "      <td>0.015152</td>\n",
       "      <td>0.010122</td>\n",
       "    </tr>\n",
       "    <tr>\n",
       "      <td>personal</td>\n",
       "      <td>0.005448</td>\n",
       "      <td>0.015152</td>\n",
       "      <td>0.009703</td>\n",
       "    </tr>\n",
       "    <tr>\n",
       "      <td>academic</td>\n",
       "      <td>0.009430</td>\n",
       "      <td>0.018595</td>\n",
       "      <td>0.009165</td>\n",
       "    </tr>\n",
       "    <tr>\n",
       "      <td>creative</td>\n",
       "      <td>0.004610</td>\n",
       "      <td>0.013774</td>\n",
       "      <td>0.009164</td>\n",
       "    </tr>\n",
       "    <tr>\n",
       "      <td>students</td>\n",
       "      <td>0.062657</td>\n",
       "      <td>0.071625</td>\n",
       "      <td>0.008968</td>\n",
       "    </tr>\n",
       "    <tr>\n",
       "      <td>excellence</td>\n",
       "      <td>0.006706</td>\n",
       "      <td>0.015152</td>\n",
       "      <td>0.008446</td>\n",
       "    </tr>\n",
       "    <tr>\n",
       "      <td>leadership</td>\n",
       "      <td>0.005448</td>\n",
       "      <td>0.013774</td>\n",
       "      <td>0.008326</td>\n",
       "    </tr>\n",
       "    <tr>\n",
       "      <td>provide</td>\n",
       "      <td>0.008382</td>\n",
       "      <td>0.015840</td>\n",
       "      <td>0.007458</td>\n",
       "    </tr>\n",
       "    <tr>\n",
       "      <td>prepare</td>\n",
       "      <td>0.006287</td>\n",
       "      <td>0.013085</td>\n",
       "      <td>0.006799</td>\n",
       "    </tr>\n",
       "    <tr>\n",
       "      <td>study</td>\n",
       "      <td>0.005658</td>\n",
       "      <td>0.012397</td>\n",
       "      <td>0.006739</td>\n",
       "    </tr>\n",
       "    <tr>\n",
       "      <td>society.</td>\n",
       "      <td>0.004610</td>\n",
       "      <td>0.011019</td>\n",
       "      <td>0.006409</td>\n",
       "    </tr>\n",
       "    <tr>\n",
       "      <td>environment</td>\n",
       "      <td>0.004191</td>\n",
       "      <td>0.010331</td>\n",
       "      <td>0.006139</td>\n",
       "    </tr>\n",
       "  </tbody>\n",
       "</table>\n",
       "</div>"
      ],
      "text/plain": [
       "              under 40   over 40  difference\n",
       "community     0.012573  0.036501    0.023928\n",
       "liberal       0.009220  0.033058    0.023837\n",
       "college       0.021794  0.045455    0.023661\n",
       "arts          0.010478  0.033058    0.022580\n",
       "education     0.018860  0.036501    0.017641\n",
       "learning      0.015088  0.032369    0.017281\n",
       "world.        0.005239  0.021350    0.016111\n",
       "university    0.034996  0.050964    0.015968\n",
       "professional  0.008173  0.024105    0.015932\n",
       "mission       0.013831  0.029614    0.015784\n",
       "diverse       0.009220  0.024793    0.015573\n",
       "lives         0.004610  0.019284    0.014674\n",
       "global        0.007544  0.018595    0.011051\n",
       "prepares      0.005029  0.015152    0.010122\n",
       "personal      0.005448  0.015152    0.009703\n",
       "academic      0.009430  0.018595    0.009165\n",
       "creative      0.004610  0.013774    0.009164\n",
       "students      0.062657  0.071625    0.008968\n",
       "excellence    0.006706  0.015152    0.008446\n",
       "leadership    0.005448  0.013774    0.008326\n",
       "provide       0.008382  0.015840    0.007458\n",
       "prepare       0.006287  0.013085    0.006799\n",
       "study         0.005658  0.012397    0.006739\n",
       "society.      0.004610  0.011019    0.006409\n",
       "environment   0.004191  0.010331    0.006139"
      ]
     },
     "execution_count": 29,
     "metadata": {},
     "output_type": "execute_result"
    }
   ],
   "source": [
    "top_over40_word_diff.to_csv('over40.csv')\n",
    "top_over40_word_diff"
   ]
  },
  {
   "cell_type": "code",
   "execution_count": 30,
   "metadata": {},
   "outputs": [
    {
     "data": {
      "text/html": [
       "<div>\n",
       "<style scoped>\n",
       "    .dataframe tbody tr th:only-of-type {\n",
       "        vertical-align: middle;\n",
       "    }\n",
       "\n",
       "    .dataframe tbody tr th {\n",
       "        vertical-align: top;\n",
       "    }\n",
       "\n",
       "    .dataframe thead th {\n",
       "        text-align: right;\n",
       "    }\n",
       "</style>\n",
       "<table border=\"1\" class=\"dataframe\">\n",
       "  <thead>\n",
       "    <tr style=\"text-align: right;\">\n",
       "      <th></th>\n",
       "      <th>under 40</th>\n",
       "      <th>over 40</th>\n",
       "      <th>difference</th>\n",
       "    </tr>\n",
       "  </thead>\n",
       "  <tbody>\n",
       "    <tr>\n",
       "      <td>understanding</td>\n",
       "      <td>0.021794</td>\n",
       "      <td>0.004132</td>\n",
       "      <td>0.017662</td>\n",
       "    </tr>\n",
       "    <tr>\n",
       "      <td>scholarship</td>\n",
       "      <td>0.016974</td>\n",
       "      <td>0.004821</td>\n",
       "      <td>0.012153</td>\n",
       "    </tr>\n",
       "    <tr>\n",
       "      <td>required</td>\n",
       "      <td>0.011735</td>\n",
       "      <td>0.000689</td>\n",
       "      <td>0.011046</td>\n",
       "    </tr>\n",
       "    <tr>\n",
       "      <td>value</td>\n",
       "      <td>0.011735</td>\n",
       "      <td>0.001377</td>\n",
       "      <td>0.010358</td>\n",
       "    </tr>\n",
       "    <tr>\n",
       "      <td>time</td>\n",
       "      <td>0.010897</td>\n",
       "      <td>0.000689</td>\n",
       "      <td>0.010208</td>\n",
       "    </tr>\n",
       "    <tr>\n",
       "      <td>moral</td>\n",
       "      <td>0.012154</td>\n",
       "      <td>0.002066</td>\n",
       "      <td>0.010088</td>\n",
       "    </tr>\n",
       "    <tr>\n",
       "      <td>skills</td>\n",
       "      <td>0.014878</td>\n",
       "      <td>0.004821</td>\n",
       "      <td>0.010058</td>\n",
       "    </tr>\n",
       "    <tr>\n",
       "      <td>larger</td>\n",
       "      <td>0.010687</td>\n",
       "      <td>0.000689</td>\n",
       "      <td>0.009999</td>\n",
       "    </tr>\n",
       "    <tr>\n",
       "      <td>state</td>\n",
       "      <td>0.010478</td>\n",
       "      <td>0.000689</td>\n",
       "      <td>0.009789</td>\n",
       "    </tr>\n",
       "    <tr>\n",
       "      <td>body</td>\n",
       "      <td>0.012154</td>\n",
       "      <td>0.002755</td>\n",
       "      <td>0.009399</td>\n",
       "    </tr>\n",
       "    <tr>\n",
       "      <td>traditional</td>\n",
       "      <td>0.013412</td>\n",
       "      <td>0.004132</td>\n",
       "      <td>0.009279</td>\n",
       "    </tr>\n",
       "    <tr>\n",
       "      <td>jewish</td>\n",
       "      <td>0.013621</td>\n",
       "      <td>0.004821</td>\n",
       "      <td>0.008800</td>\n",
       "    </tr>\n",
       "    <tr>\n",
       "      <td>seek</td>\n",
       "      <td>0.012783</td>\n",
       "      <td>0.004132</td>\n",
       "      <td>0.008651</td>\n",
       "    </tr>\n",
       "    <tr>\n",
       "      <td>help</td>\n",
       "      <td>0.010687</td>\n",
       "      <td>0.002066</td>\n",
       "      <td>0.008621</td>\n",
       "    </tr>\n",
       "    <tr>\n",
       "      <td>means</td>\n",
       "      <td>0.010268</td>\n",
       "      <td>0.002066</td>\n",
       "      <td>0.008202</td>\n",
       "    </tr>\n",
       "    <tr>\n",
       "      <td>way</td>\n",
       "      <td>0.010268</td>\n",
       "      <td>0.002066</td>\n",
       "      <td>0.008202</td>\n",
       "    </tr>\n",
       "    <tr>\n",
       "      <td>good</td>\n",
       "      <td>0.010268</td>\n",
       "      <td>0.002066</td>\n",
       "      <td>0.008202</td>\n",
       "    </tr>\n",
       "    <tr>\n",
       "      <td>knowledge</td>\n",
       "      <td>0.018441</td>\n",
       "      <td>0.012397</td>\n",
       "      <td>0.006044</td>\n",
       "    </tr>\n",
       "    <tr>\n",
       "      <td>seeks</td>\n",
       "      <td>0.011316</td>\n",
       "      <td>0.005510</td>\n",
       "      <td>0.005806</td>\n",
       "    </tr>\n",
       "    <tr>\n",
       "      <td>research</td>\n",
       "      <td>0.010897</td>\n",
       "      <td>0.005510</td>\n",
       "      <td>0.005387</td>\n",
       "    </tr>\n",
       "    <tr>\n",
       "      <td>ethical</td>\n",
       "      <td>0.012992</td>\n",
       "      <td>0.008953</td>\n",
       "      <td>0.004039</td>\n",
       "    </tr>\n",
       "    <tr>\n",
       "      <td>world</td>\n",
       "      <td>0.012783</td>\n",
       "      <td>0.008953</td>\n",
       "      <td>0.003830</td>\n",
       "    </tr>\n",
       "    <tr>\n",
       "      <td>god</td>\n",
       "      <td>0.004401</td>\n",
       "      <td>0.000689</td>\n",
       "      <td>0.003712</td>\n",
       "    </tr>\n",
       "    <tr>\n",
       "      <td>torah</td>\n",
       "      <td>0.004191</td>\n",
       "      <td>0.000689</td>\n",
       "      <td>0.003502</td>\n",
       "    </tr>\n",
       "    <tr>\n",
       "      <td>public</td>\n",
       "      <td>0.007125</td>\n",
       "      <td>0.004132</td>\n",
       "      <td>0.002993</td>\n",
       "    </tr>\n",
       "  </tbody>\n",
       "</table>\n",
       "</div>"
      ],
      "text/plain": [
       "               under 40   over 40  difference\n",
       "understanding  0.021794  0.004132    0.017662\n",
       "scholarship    0.016974  0.004821    0.012153\n",
       "required       0.011735  0.000689    0.011046\n",
       "value          0.011735  0.001377    0.010358\n",
       "time           0.010897  0.000689    0.010208\n",
       "moral          0.012154  0.002066    0.010088\n",
       "skills         0.014878  0.004821    0.010058\n",
       "larger         0.010687  0.000689    0.009999\n",
       "state          0.010478  0.000689    0.009789\n",
       "body           0.012154  0.002755    0.009399\n",
       "traditional    0.013412  0.004132    0.009279\n",
       "jewish         0.013621  0.004821    0.008800\n",
       "seek           0.012783  0.004132    0.008651\n",
       "help           0.010687  0.002066    0.008621\n",
       "means          0.010268  0.002066    0.008202\n",
       "way            0.010268  0.002066    0.008202\n",
       "good           0.010268  0.002066    0.008202\n",
       "knowledge      0.018441  0.012397    0.006044\n",
       "seeks          0.011316  0.005510    0.005806\n",
       "research       0.010897  0.005510    0.005387\n",
       "ethical        0.012992  0.008953    0.004039\n",
       "world          0.012783  0.008953    0.003830\n",
       "god            0.004401  0.000689    0.003712\n",
       "torah          0.004191  0.000689    0.003502\n",
       "public         0.007125  0.004132    0.002993"
      ]
     },
     "execution_count": 30,
     "metadata": {},
     "output_type": "execute_result"
    }
   ],
   "source": [
    "top_under40_word_diff.to_csv('under40.csv')\n",
    "top_under40_word_diff"
   ]
  },
  {
   "cell_type": "raw",
   "metadata": {},
   "source": [
    "For this last visualization, I'm interested to see how the words with greatest difference compare between the two subsets. Here we can see that the words that appear more often in the over $40k subset (green) are more common to each subset than those words that appear more frequently in the under $40k group (orange). We can also see that in general, the words appearing more often in the over $40k category have a greater difference than those in the under $40k group. This may suggest that institutions whose total cost is under $40k may include more niche schools, those that have more specific mission statements. Further analysis, using more careful natural language processing and additional subsets of the data may help confirm or reject this."
   ]
  },
  {
   "cell_type": "code",
   "execution_count": 63,
   "metadata": {},
   "outputs": [
    {
     "data": {
      "image/png": "[encoded data removed]",
      "text/plain": [
       "<Figure size 720x720 with 1 Axes>"
      ]
     },
     "metadata": {
      "needs_background": "light"
     },
     "output_type": "display_data"
    }
   ],
   "source": [
    "fig, ax = plt.subplots(figsize=(10,10))\n",
    "ax.scatter(top_over40_word_diff['under 40'], top_over40_word_diff['over 40'], color='green', label='Over $40k')\n",
    "ax.scatter(top_under40_word_diff['under 40'], top_under40_word_diff['over 40'], color='orange', label='Under $40k')\n",
    "ax.plot([0,0.07], [0,0.07], color='red')\n",
    "ax.set_xlabel('Under $40k')\n",
    "ax.set_ylabel('Over $40k')\n",
    "ax.set_title('Top 25 words with greatest difference for each category: Over \\$40k and Under \\$40k')\n",
    "ax.legend()\n",
    "fig.savefig('greatest difference.png')"
   ]
  }
 ],
 "metadata": {
  "kernelspec": {
   "display_name": "Python 3",
   "language": "python",
   "name": "python3"
  },
  "language_info": {
   "codemirror_mode": {
    "name": "ipython",
    "version": 3
   },
   "file_extension": ".py",
   "mimetype": "text/x-python",
   "name": "python",
   "nbconvert_exporter": "python",
   "pygments_lexer": "ipython3",
   "version": "3.7.4"
  }
 },
 "nbformat": 4,
 "nbformat_minor": 4
}
